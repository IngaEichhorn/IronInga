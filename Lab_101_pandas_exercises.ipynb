{
 "cells": [
  {
   "cell_type": "code",
   "execution_count": 2,
   "id": "e01f4dbc",
   "metadata": {},
   "outputs": [],
   "source": [
    "###1. How to import pandas and check the version?\n",
    "import pandas as pd"
   ]
  },
  {
   "cell_type": "code",
   "execution_count": 7,
   "id": "9849f312",
   "metadata": {},
   "outputs": [
    {
     "name": "stdout",
     "output_type": "stream",
     "text": [
      "0     a\n",
      "1     b\n",
      "2     c\n",
      "3     e\n",
      "4     d\n",
      "5     f\n",
      "6     g\n",
      "7     h\n",
      "8     i\n",
      "9     j\n",
      "10    k\n",
      "11    l\n",
      "12    m\n",
      "13    n\n",
      "14    o\n",
      "15    p\n",
      "16    q\n",
      "17    r\n",
      "18    s\n",
      "19    t\n",
      "20    u\n",
      "21    v\n",
      "22    w\n",
      "23    x\n",
      "24    y\n",
      "25    z\n",
      "dtype: object\n"
     ]
    }
   ],
   "source": [
    "###2. How to create a series from a list, numpy array and dict?\n",
    "\n",
    "import numpy as np\n",
    "mylist = list('abcedfghijklmnopqrstuvwxyz')\n",
    "myarr = np.arange(26)\n",
    "mydict = dict(zip(mylist, myarr))\n",
    "\n",
    "ser1 = pd.Series(mylist)\n",
    "ser2 = pd.Series(myarr)\n",
    "ser3 = pd.Series(mydict)\n",
    "print(ser1)"
   ]
  },
  {
   "cell_type": "code",
   "execution_count": 15,
   "id": "cc79dfdb",
   "metadata": {},
   "outputs": [
    {
     "name": "stdout",
     "output_type": "stream",
     "text": [
      "   index   0\n",
      "0      a   0\n",
      "1      b   1\n",
      "2      c   2\n",
      "3      e   3\n",
      "4      d   4\n",
      "5      f   5\n",
      "6      g   6\n",
      "7      h   7\n",
      "8      i   8\n",
      "9      j   9\n",
      "10     k  10\n",
      "11     l  11\n",
      "12     m  12\n",
      "13     n  13\n",
      "14     o  14\n",
      "15     p  15\n",
      "16     q  16\n",
      "17     r  17\n",
      "18     s  18\n",
      "19     t  19\n",
      "20     u  20\n",
      "21     v  21\n",
      "22     w  22\n",
      "23     x  23\n",
      "24     y  24\n",
      "25     z  25\n"
     ]
    }
   ],
   "source": [
    "###3. How to convert the index of a series into a column of a dataframe?\n",
    "\n",
    "mylist = list('abcedfghijklmnopqrstuvwxyz')\n",
    "myarr = np.arange(26)\n",
    "mydict = dict(zip(mylist, myarr))  #zip: A zip object yielding tuples until an input is exhausted\n",
    "ser = pd.Series(mydict)\n",
    "\n",
    "df = ser.to_frame().reset_index()  #ser.to_frame(name=None): coverts series to dataframe; reset_index:  the old index is added as a column, and a new sequential index is used\n",
    "print(df)"
   ]
  },
  {
   "cell_type": "code",
   "execution_count": 19,
   "id": "df899f89",
   "metadata": {},
   "outputs": [
    {
     "name": "stdout",
     "output_type": "stream",
     "text": [
      "   Letters  Numbers\n",
      "0        a        0\n",
      "1        b        1\n",
      "2        c        2\n",
      "3        e        3\n",
      "4        d        4\n",
      "5        f        5\n",
      "6        g        6\n",
      "7        h        7\n",
      "8        i        8\n",
      "9        j        9\n",
      "10       k       10\n",
      "11       l       11\n",
      "12       m       12\n",
      "13       n       13\n",
      "14       o       14\n",
      "15       p       15\n",
      "16       q       16\n",
      "17       r       17\n",
      "18       s       18\n",
      "19       t       19\n",
      "20       u       20\n",
      "21       v       21\n",
      "22       w       22\n",
      "23       x       23\n",
      "24       y       24\n",
      "25       z       25\n"
     ]
    }
   ],
   "source": [
    "###4. How to combine many series to form a dataframe?\n",
    "\n",
    "import numpy as np\n",
    "ser1 = pd.Series(list('abcedfghijklmnopqrstuvwxyz'))\n",
    "ser2 = pd.Series(np.arange(26))\n",
    "\n",
    "df=pd.DataFrame({'Letters': ser1, 'Numbers': ser2})\n",
    "print(df)\n",
    "\n",
    "#df = pd.concat([ser1, ser2], axis=1)"
   ]
  },
  {
   "cell_type": "code",
   "execution_count": 25,
   "id": "9fc9414d",
   "metadata": {},
   "outputs": [
    {
     "data": {
      "text/plain": [
       "0     a\n",
       "1     b\n",
       "2     c\n",
       "3     e\n",
       "4     d\n",
       "5     f\n",
       "6     g\n",
       "7     h\n",
       "8     i\n",
       "9     j\n",
       "10    k\n",
       "11    l\n",
       "12    m\n",
       "13    n\n",
       "14    o\n",
       "15    p\n",
       "16    q\n",
       "17    r\n",
       "18    s\n",
       "19    t\n",
       "20    u\n",
       "21    v\n",
       "22    w\n",
       "23    x\n",
       "24    y\n",
       "25    z\n",
       "Name: letters, dtype: object"
      ]
     },
     "execution_count": 25,
     "metadata": {},
     "output_type": "execute_result"
    }
   ],
   "source": [
    "###5. How to assign name to the series’ index?\n",
    "\n",
    "ser = pd.Series(list('abcedfghijklmnopqrstuvwxyz'))\n",
    "\n",
    "ser.name='letters'\n",
    "ser"
   ]
  },
  {
   "cell_type": "code",
   "execution_count": 38,
   "id": "9bfeb854",
   "metadata": {},
   "outputs": [
    {
     "name": "stdout",
     "output_type": "stream",
     "text": [
      "\n",
      " 0    False\n",
      "1    False\n",
      "2    False\n",
      "3     True\n",
      "4     True\n",
      "dtype: bool\n",
      "\n",
      " 0     True\n",
      "1     True\n",
      "2     True\n",
      "3    False\n",
      "4    False\n",
      "dtype: bool\n"
     ]
    },
    {
     "data": {
      "text/plain": [
       "0    1\n",
       "1    2\n",
       "2    3\n",
       "dtype: int64"
      ]
     },
     "execution_count": 38,
     "metadata": {},
     "output_type": "execute_result"
    }
   ],
   "source": [
    "###6. How to get the items of series A not present in series B?\n",
    "\n",
    "ser1 = pd.Series([1, 2, 3, 4, 5])\n",
    "ser2 = pd.Series([4, 5, 6, 7, 8]) \n",
    "\n",
    "print('\\n', ser1.isin(ser2)) #isin: Whether elements in Series are contained in values; poutpu boolean\n",
    "print('\\n',~ser1.isin(ser2)) # ~ negates/inverts \n",
    "ser1[~ser1.isin(ser2)] #"
   ]
  },
  {
   "cell_type": "code",
   "execution_count": 39,
   "id": "5ddbe0c7",
   "metadata": {},
   "outputs": [
    {
     "data": {
      "text/plain": [
       "0    1\n",
       "1    2\n",
       "2    3\n",
       "5    6\n",
       "6    7\n",
       "7    8\n",
       "dtype: int64"
      ]
     },
     "execution_count": 39,
     "metadata": {},
     "output_type": "execute_result"
    }
   ],
   "source": [
    "###7. How to get the items not common to both series A and series B?\n",
    "\n",
    "ser1 = pd.Series([1, 2, 3, 4, 5])\n",
    "ser2 = pd.Series([4, 5, 6, 7, 8])\n",
    "\n",
    "ser_union = pd.Series(np.union1d(ser1, ser2))  #np.union1d union Find the union of two arrays.\n",
    "ser_intersect = pd.Series(np.intersect1d(ser1, ser2))  # intersect: Return the sorted, unique values that are in both of the input arrays.\n",
    "ser_union[~ser_union.isin(ser_intersect)]\n"
   ]
  },
  {
   "cell_type": "code",
   "execution_count": 58,
   "id": "24fb52b5",
   "metadata": {},
   "outputs": [
    {
     "name": "stdout",
     "output_type": "stream",
     "text": [
      "0     14.795260\n",
      "1     15.370896\n",
      "2      9.467883\n",
      "3     10.391811\n",
      "4      8.432052\n",
      "5      7.431662\n",
      "6     10.485203\n",
      "7      9.290565\n",
      "8     12.680049\n",
      "9     20.965166\n",
      "10     8.370685\n",
      "11    15.032853\n",
      "12    12.390250\n",
      "13    16.497469\n",
      "14     6.535550\n",
      "15     8.201937\n",
      "16    10.496849\n",
      "17     9.675682\n",
      "18     9.533651\n",
      "19    11.937964\n",
      "20     9.707716\n",
      "21     9.619145\n",
      "22     9.181846\n",
      "23     9.298904\n",
      "24    12.211635\n",
      "dtype: float64\n",
      "Minimum= 6.535550240832145\n",
      "25th percentile= 9.290564584376176\n",
      "Median= 9.707715623383008\n",
      "75th percentile= 12.390249873304608\n",
      "Maximum= 20.965165641106132\n"
     ]
    }
   ],
   "source": [
    "###8. How to get the minimum, 25th percentile, median, 75th, and max of a numeric series?\n",
    "\n",
    "ser = pd.Series(np.random.normal(10, 5, 25))\n",
    "\n",
    "#np.percentile(ser, q=[0, 25, 50, 75, 100])\n",
    "\n",
    "print(ser)\n",
    "print('Minimum=', ser.min())\n",
    "print('25th percentile=', ser.quantile(q=0.25))\n",
    "print('Median=', ser.median())\n",
    "print('75th percentile=', ser.quantile(q=0.75))\n",
    "print('Maximum=', ser.max())\n"
   ]
  },
  {
   "cell_type": "code",
   "execution_count": 55,
   "id": "4b7b61ce",
   "metadata": {},
   "outputs": [
    {
     "data": {
      "text/plain": [
       "d    5\n",
       "g    5\n",
       "c    5\n",
       "b    5\n",
       "e    4\n",
       "a    2\n",
       "h    2\n",
       "f    2\n",
       "dtype: int64"
      ]
     },
     "execution_count": 55,
     "metadata": {},
     "output_type": "execute_result"
    }
   ],
   "source": [
    "###9. How to get frequency counts of unique items of a series?\n",
    "\n",
    "ser = pd.Series(np.take(list('abcdefgh'), np.random.randint(8, size=30)))\n",
    "\n",
    "ser.value_counts()"
   ]
  },
  {
   "cell_type": "code",
   "execution_count": 59,
   "id": "19a2d9f9",
   "metadata": {},
   "outputs": [
    {
     "name": "stdout",
     "output_type": "stream",
     "text": [
      "Top 2 most frequent numbers are: 2    4\n",
      "4    4\n",
      "1    3\n",
      "3    1\n",
      "dtype: int64\n"
     ]
    },
    {
     "data": {
      "text/plain": [
       "0         2\n",
       "1     Other\n",
       "2     Other\n",
       "3         4\n",
       "4         2\n",
       "5         2\n",
       "6     Other\n",
       "7         4\n",
       "8     Other\n",
       "9         4\n",
       "10        4\n",
       "11        2\n",
       "dtype: object"
      ]
     },
     "execution_count": 59,
     "metadata": {},
     "output_type": "execute_result"
    }
   ],
   "source": [
    "###10. How to keep only top 2 most frequent values as it is and replace everything else as ‘Other’?\n",
    "\n",
    "np.random.RandomState(100)   #fixes random state, output always same numbers\n",
    "ser = pd.Series(np.random.randint(1, 5, [12]))\n",
    "\n",
    "print(\"Top 2 most frequent numbers are:\", ser.value_counts())\n",
    "ser[~ser.isin(ser.value_counts().index[:2])] = 'Other'\n",
    "ser"
   ]
  },
  {
   "cell_type": "code",
   "execution_count": 63,
   "id": "df8eb725",
   "metadata": {},
   "outputs": [
    {
     "name": "stdout",
     "output_type": "stream",
     "text": [
      "0     0.380130\n",
      "1     0.023064\n",
      "2     0.313854\n",
      "3     0.407468\n",
      "4     0.274567\n",
      "5     0.767278\n",
      "6     0.289124\n",
      "7     0.322816\n",
      "8     0.869532\n",
      "9     0.457191\n",
      "10    0.844208\n",
      "11    0.665293\n",
      "12    0.345669\n",
      "13    0.928985\n",
      "14    0.419213\n",
      "15    0.175442\n",
      "16    0.930020\n",
      "17    0.411809\n",
      "18    0.651095\n",
      "19    0.258372\n",
      "dtype: float64\n"
     ]
    },
    {
     "data": {
      "text/plain": [
       "0      5th\n",
       "1      1st\n",
       "2      3rd\n",
       "3      5th\n",
       "4      2nd\n",
       "5      8th\n",
       "6      3rd\n",
       "7      4th\n",
       "8      9th\n",
       "9      7th\n",
       "10     9th\n",
       "11     8th\n",
       "12     4th\n",
       "13    10th\n",
       "14     6th\n",
       "15     1st\n",
       "16    10th\n",
       "17     6th\n",
       "18     7th\n",
       "19     2nd\n",
       "dtype: category\n",
       "Categories (10, object): ['1st' < '2nd' < '3rd' < '4th' ... '7th' < '8th' < '9th' < '10th']"
      ]
     },
     "execution_count": 63,
     "metadata": {},
     "output_type": "execute_result"
    }
   ],
   "source": [
    "###11. How to bin a numeric series to 10 groups of equal size?\n",
    "#using quantiles to equally distribute numbers, for 10 groups (0, 0.1, 0.2, 0.3, 0.4, 0.5, 0.6, 0.7, 0.8, 0.9, 1.0), for 5 groups (0, .25, .5, .75, 1.)\n",
    "\n",
    "\n",
    "ser = pd.Series(np.random.random(20))\n",
    "print(ser)\n",
    "\n",
    " #Quantile-based discretization function (pandas.qcut(x, q, labels=None, retbins=False, precision=3, duplicates='raise')\n",
    "pd.qcut(ser, q=[0, 0.1, 0.2, 0.3, 0.4, 0.5, 0.6, 0.7, 0.8, 0.9, 1.0],   \n",
    "        labels=['1st', '2nd', '3rd', '4th', '5th', '6th', '7th', '8th', '9th', '10th'])"
   ]
  },
  {
   "cell_type": "code",
   "execution_count": 69,
   "id": "c970f09f",
   "metadata": {},
   "outputs": [
    {
     "data": {
      "text/plain": [
       "0      5th\n",
       "1      1st\n",
       "2      3rd\n",
       "3      5th\n",
       "4      2nd\n",
       "5      8th\n",
       "6      3rd\n",
       "7      4th\n",
       "8      9th\n",
       "9      7th\n",
       "10     9th\n",
       "11     8th\n",
       "12     4th\n",
       "13    10th\n",
       "14     6th\n",
       "15     1st\n",
       "16    10th\n",
       "17     6th\n",
       "18     7th\n",
       "19     2nd\n",
       "dtype: category\n",
       "Categories (10, object): ['1st' < '2nd' < '3rd' < '4th' ... '7th' < '8th' < '9th' < '10th']"
      ]
     },
     "execution_count": 69,
     "metadata": {},
     "output_type": "execute_result"
    }
   ],
   "source": [
    "pd.qcut(ser, 10, labels=['1st', '2nd', '3rd', '4th', '5th', '6th', '7th', '8th', '9th', '10th'])"
   ]
  },
  {
   "cell_type": "code",
   "execution_count": 74,
   "id": "fc56c479",
   "metadata": {},
   "outputs": [
    {
     "name": "stdout",
     "output_type": "stream",
     "text": [
      "   0  1  2  3  4  5  6\n",
      "0  9  2  4  6  1  6  5\n",
      "1  7  2  3  8  3  3  2\n",
      "2  4  2  9  2  4  4  9\n",
      "3  7  8  7  8  1  6  7\n",
      "4  9  2  9  2  1  4  1\n"
     ]
    }
   ],
   "source": [
    "###12. How to convert a numpy array to a dataframe of given shape? (L1)\n",
    "\n",
    "ser = pd.Series(np.random.randint(1, 10, 35))\n",
    "#print(ser)\n",
    "df = pd.DataFrame(ser.values.reshape(5,7))  #reshape size must fit to total count of element, i.e 35-5*7\n",
    "print(df)"
   ]
  },
  {
   "cell_type": "code",
   "execution_count": 108,
   "id": "9f5c8ddb",
   "metadata": {
    "scrolled": true
   },
   "outputs": [
    {
     "name": "stdout",
     "output_type": "stream",
     "text": [
      "0    False\n",
      "1    False\n",
      "2     True\n",
      "3    False\n",
      "4     True\n",
      "5    False\n",
      "6     True\n",
      "dtype: bool\n"
     ]
    },
    {
     "data": {
      "text/plain": [
       "(array([2, 4, 6], dtype=int64),)"
      ]
     },
     "execution_count": 108,
     "metadata": {},
     "output_type": "execute_result"
    }
   ],
   "source": [
    "###13. How to find the positions of numbers that are multiples of 3 from a series?\n",
    "\n",
    "ser = pd.Series(np.random.randint(1, 10, 7))\n",
    "b=(ser % 3 ==0)\n",
    "print(b)\n",
    "\n",
    "np.where(b)  "
   ]
  },
  {
   "cell_type": "code",
   "execution_count": 110,
   "id": "46133454",
   "metadata": {},
   "outputs": [
    {
     "data": {
      "text/plain": [
       "0     a\n",
       "4     e\n",
       "8     i\n",
       "14    o\n",
       "20    u\n",
       "dtype: object"
      ]
     },
     "execution_count": 110,
     "metadata": {},
     "output_type": "execute_result"
    }
   ],
   "source": [
    "###14. How to extract items at given positions from a series\n",
    "\n",
    "ser = pd.Series(list('abcdefghijklmnopqrstuvwxyz'))\n",
    "pos = [0, 4, 8, 14, 20]\n",
    "\n",
    "ser.take(pos)  #Return the elements in the given *positional* indices along an axis."
   ]
  },
  {
   "cell_type": "code",
   "execution_count": 111,
   "id": "a3319ad9",
   "metadata": {},
   "outputs": [
    {
     "name": "stdout",
     "output_type": "stream",
     "text": [
      "0    0\n",
      "1    1\n",
      "2    2\n",
      "3    3\n",
      "4    4\n",
      "0    a\n",
      "1    b\n",
      "2    c\n",
      "3    d\n",
      "4    e\n",
      "dtype: object\n",
      "\n",
      "    0  1\n",
      "0  0  a\n",
      "1  1  b\n",
      "2  2  c\n",
      "3  3  d\n",
      "4  4  e\n"
     ]
    }
   ],
   "source": [
    "###15. How to stack two series vertically and horizontally ?\n",
    "\n",
    "ser1 = pd.Series(range(5))\n",
    "ser2 = pd.Series(list('abcde'))\n",
    "\n",
    "ser_vert=ser1.append(ser2) #vertically, append ser1 with ser2\n",
    "\n",
    "df_hori=pd.concat([ser1, ser2], axis=1)  #horizontally\n",
    "\n",
    "print(ser_vert)\n",
    "print('\\n',df_hori)\n"
   ]
  },
  {
   "cell_type": "code",
   "execution_count": 117,
   "id": "f4404844",
   "metadata": {},
   "outputs": [
    {
     "name": "stdout",
     "output_type": "stream",
     "text": [
      "[5, 4, 0, 8] <class 'list'>\n"
     ]
    }
   ],
   "source": [
    "###16. How to get the positions of items of series A in another series B?\n",
    "\n",
    "ser1 = pd.Series([10, 9, 6, 5, 3, 1, 12, 8, 13])\n",
    "ser2 = pd.Series([1, 3, 10, 13])\n",
    "\n",
    "f=[pd.Index(ser1).get_loc(i) for i in ser2]  #get location for requested label\n",
    "\n",
    "print(f, type(f))"
   ]
  },
  {
   "cell_type": "code",
   "execution_count": 118,
   "id": "c100d96e",
   "metadata": {},
   "outputs": [
    {
     "data": {
      "text/plain": [
       "0.3368967691822092"
      ]
     },
     "execution_count": 118,
     "metadata": {},
     "output_type": "execute_result"
    }
   ],
   "source": [
    "###17. How to compute the mean squared error on a truth and predicted series?\n",
    "\n",
    "truth = pd.Series(range(10))\n",
    "pred = pd.Series(range(10)) + np.random.random(10)\n",
    "\n",
    "np.mean((truth-pred)**2)"
   ]
  },
  {
   "cell_type": "code",
   "execution_count": 130,
   "id": "ddddc635",
   "metadata": {},
   "outputs": [
    {
     "name": "stdout",
     "output_type": "stream",
     "text": [
      "0     How\n",
      "1      To\n",
      "2    Kick\n",
      "3    Ass?\n",
      "dtype: object\n",
      "\n",
      " 0     How\n",
      "1      To\n",
      "2    Kick\n",
      "3    Ass?\n",
      "dtype: object\n"
     ]
    }
   ],
   "source": [
    "###18. How to convert the first character of each element in a series to uppercase?\n",
    "\n",
    "ser = pd.Series(['how', 'to', 'kick', 'ass?'])\n",
    "\n",
    "ser2=pd.Series([i.title() for i in ser]) #pd.Series.str.title - Converts first character of each word to uppercase and remaining to lowercase.\n",
    "print(ser2)\n",
    "\n",
    "\n",
    "ser3=ser.str.title() #easier solution\n",
    "print('\\n',ser3)"
   ]
  },
  {
   "cell_type": "code",
   "execution_count": 134,
   "id": "49c65015",
   "metadata": {},
   "outputs": [
    {
     "name": "stdout",
     "output_type": "stream",
     "text": [
      "0    3\n",
      "1    2\n",
      "2    4\n",
      "3    4\n",
      "dtype: int64\n",
      "\n",
      " 0    3\n",
      "1    2\n",
      "2    4\n",
      "3    4\n",
      "dtype: int64\n"
     ]
    }
   ],
   "source": [
    "###19. How to calculate the number of characters in each word in a series?\n",
    "\n",
    "ser = pd.Series(['how', 'to', 'kick', 'ass?'])\n",
    "\n",
    "print(ser.map(lambda x: len(x)))\n",
    "\n",
    "print('\\n',ser.str.len()) #easier solution"
   ]
  },
  {
   "cell_type": "code",
   "execution_count": 135,
   "id": "1521a6c7",
   "metadata": {},
   "outputs": [
    {
     "name": "stdout",
     "output_type": "stream",
     "text": [
      "[nan, 2.0, 3.0, 4.0, 5.0, 6.0, 6.0, 8.0]\n",
      "[nan, nan, 1.0, 1.0, 1.0, 1.0, 0.0, 2.0]\n"
     ]
    }
   ],
   "source": [
    "###20. How to compute difference of differences between consequtive numbers of a series?\n",
    "\n",
    "ser = pd.Series([1, 3, 6, 10, 15, 21, 27, 35])\n",
    "\n",
    "print(ser.diff().tolist())  #tolist--convert a series to list.\n",
    "print(ser.diff().diff().tolist())"
   ]
  },
  {
   "cell_type": "code",
   "execution_count": 136,
   "id": "9948d3f0",
   "metadata": {},
   "outputs": [
    {
     "data": {
      "text/plain": [
       "0   2010-01-01 00:00:00\n",
       "1   2011-02-02 00:00:00\n",
       "2   2012-03-03 00:00:00\n",
       "3   2013-04-04 00:00:00\n",
       "4   2014-05-05 00:00:00\n",
       "5   2015-06-06 12:20:00\n",
       "dtype: datetime64[ns]"
      ]
     },
     "execution_count": 136,
     "metadata": {},
     "output_type": "execute_result"
    }
   ],
   "source": [
    "###21. How to convert a series of date-strings to a timeseries?\n",
    "\n",
    "ser = pd.Series(['01 Jan 2010', '02-02-2011', '20120303', '2013/04/04', '2014-05-05', '2015-06-06T12:20'])\n",
    "\n",
    "pd.to_datetime(ser) ##Convert argument to datetime."
   ]
  },
  {
   "cell_type": "code",
   "execution_count": 149,
   "id": "5c87fbe3",
   "metadata": {},
   "outputs": [
    {
     "name": "stdout",
     "output_type": "stream",
     "text": [
      "Date:  [1, 2, 3, 4, 5, 6]\n",
      "Week number:  [53, 5, 9, 14, 19, 23]\n",
      "Day number of year:  [1, 33, 63, 94, 125, 157]\n",
      "Day of week:  [4, 2, 5, 3, 0, 5]\n"
     ]
    },
    {
     "name": "stderr",
     "output_type": "stream",
     "text": [
      "C:\\Users\\ingae\\AppData\\Local\\Temp/ipykernel_19560/3725698834.py:11: FutureWarning: Series.dt.weekofyear and Series.dt.week have been deprecated.  Please use Series.dt.isocalendar().week instead.\n",
      "  print(\"Week number: \", ser_parsed.dt.weekofyear.tolist())  #figure out how to use isocalender().week\n"
     ]
    }
   ],
   "source": [
    "###22. How to get the day of month, week number, day of year and day of week from a series of date strings?\n",
    "\n",
    "ser = pd.Series(['01 Jan 2010', '02-02-2011', '20120303', '2013/04/04', '2014-05-05', '2015-06-06T12:20'])\n",
    "\n",
    "from dateutil.parser import parse  #parser module can parse datetime strings in many more formats\n",
    "\n",
    "ser_parsed = ser.map(lambda x: parse(x))\n",
    "\n",
    "print(\"Date: \", ser_parsed.dt.day.tolist())\n",
    "\n",
    "print(\"Week number: \", ser_parsed.dt.weekofyear.tolist())  #figure out how to use isocalender().week\n",
    "\n",
    "print(\"Day number of year: \", ser_parsed.dt.dayofyear.tolist())\n",
    "\n",
    "print(\"Day of week: \", ser_parsed.dt.weekday.tolist())"
   ]
  },
  {
   "cell_type": "code",
   "execution_count": 152,
   "id": "b137fbc9",
   "metadata": {},
   "outputs": [
    {
     "data": {
      "text/plain": [
       "0    2010-1-04\n",
       "1    2011-2-04\n",
       "2    2012-3-04\n",
       "dtype: object"
      ]
     },
     "execution_count": 152,
     "metadata": {},
     "output_type": "execute_result"
    }
   ],
   "source": [
    "###23. How to convert year-month string to dates corresponding to the 4th day of the month?\n",
    "\n",
    "ser = pd.Series(['Jan 2010', 'Feb 2011', 'Mar 2012'])\n",
    "\n",
    "from dateutil.parser import parse\n",
    "\n",
    "ser_parsed = ser.map(lambda x: parse(x))\n",
    "ser_date = ser_parsed.dt.year.astype('str') + '-' + ser_parsed.dt.month.astype('str') + '-' + '04'\n",
    "ser_date"
   ]
  },
  {
   "cell_type": "code",
   "execution_count": 153,
   "id": "ee43d0c4",
   "metadata": {},
   "outputs": [
    {
     "data": {
      "text/plain": [
       "0     Apple\n",
       "1    Orange\n",
       "4     Money\n",
       "dtype: object"
      ]
     },
     "execution_count": 153,
     "metadata": {},
     "output_type": "execute_result"
    }
   ],
   "source": [
    "###24. How to filter words that contain atleast 2 vowels from a series?\n",
    "\n",
    "ser = pd.Series(['Apple', 'Orange', 'Plan', 'Python', 'Money'])\n",
    "\n",
    "from collections import Counter\n",
    "\n",
    "filter = ser.map(lambda x: sum([Counter(x.lower()).get(i, 0) for i in list('aeiou')]) >= 2)\n",
    "ser[filter]"
   ]
  },
  {
   "cell_type": "code",
   "execution_count": 154,
   "id": "797e3b9d",
   "metadata": {},
   "outputs": [
    {
     "data": {
      "text/plain": [
       "1    rameses@egypt.com\n",
       "2            matt@t.co\n",
       "3    narendra@modi.com\n",
       "dtype: object"
      ]
     },
     "execution_count": 154,
     "metadata": {},
     "output_type": "execute_result"
    }
   ],
   "source": [
    "###25. How to filter valid emails from a series?\n",
    "\n",
    "emails = pd.Series(['buying books at amazom.com', 'rameses@egypt.com', 'matt@t.co', 'narendra@modi.com'])\n",
    "pattern ='[A-Za-z0-9._%+-]+@[A-Za-z0-9.-]+\\\\.[A-Za-z]{2,4}'\n",
    "\n",
    "import re\n",
    "\n",
    "filter = emails.map(lambda x: bool(re.match(pattern, x)))\n",
    "emails[filter]"
   ]
  },
  {
   "cell_type": "code",
   "execution_count": 157,
   "id": "4824eda1",
   "metadata": {},
   "outputs": [
    {
     "name": "stdout",
     "output_type": "stream",
     "text": [
      "weights: [1.0, 2.0, 3.0, 4.0, 5.0, 6.0, 7.0, 8.0, 9.0, 10.0]\n",
      "fruits: ['apple', 'carrot', 'banana', 'carrot', 'apple', 'banana', 'carrot', 'carrot', 'apple', 'banana']\n"
     ]
    },
    {
     "data": {
      "text/plain": [
       "apple     5.000000\n",
       "banana    6.333333\n",
       "carrot    5.250000\n",
       "dtype: float64"
      ]
     },
     "execution_count": 157,
     "metadata": {},
     "output_type": "execute_result"
    }
   ],
   "source": [
    "###26. How to get the mean of a series grouped by another series?\n",
    "\n",
    "fruit = pd.Series(np.random.choice(['apple', 'banana', 'carrot'], 10))\n",
    "weights = pd.Series(np.linspace(1, 10, 10))\n",
    "print('weights:',weights.tolist())\n",
    "print('fruits:',fruit.tolist())\n",
    "\n",
    "weights.groupby(fruit).mean()   #Group Series using a mapper or by a Series of columns."
   ]
  },
  {
   "cell_type": "code",
   "execution_count": 168,
   "id": "540fb655",
   "metadata": {},
   "outputs": [
    {
     "name": "stdout",
     "output_type": "stream",
     "text": [
      "18.16590212458495\n"
     ]
    },
    {
     "data": {
      "text/plain": [
       "18.16590212458495"
      ]
     },
     "execution_count": 168,
     "metadata": {},
     "output_type": "execute_result"
    }
   ],
   "source": [
    "###27. How to compute the euclidean distance between two series?\n",
    "\n",
    "#length of a line segment between the two points. \n",
    "#It can be calculated from the Cartesian coordinates of the points using the Pythagorean theorem,\n",
    "#therefore occasionally being called the Pythagorean distance.\n",
    "\n",
    "p = pd.Series([1, 2, 3, 4, 5, 6, 7, 8, 9, 10])\n",
    "q = pd.Series([10, 9, 8, 7, 6, 5, 4, 3, 2, 1])\n",
    "\n",
    "euc_dist=(sum((p - q)**2))**.5  # d(p,q)={\\sqrt {(p-q)^{2}}}\n",
    "print(euc_dist)\n",
    "\n",
    "#np.linalg.norm(p-q)"
   ]
  },
  {
   "cell_type": "code",
   "execution_count": 169,
   "id": "49db0e7c",
   "metadata": {},
   "outputs": [
    {
     "data": {
      "text/plain": [
       "1"
      ]
     },
     "execution_count": 169,
     "metadata": {},
     "output_type": "execute_result"
    }
   ],
   "source": [
    "###28. How to find all the local maxima (or peaks) in a numeric series?\n",
    "\n",
    "ser = pd.Series([2, 10, 3, 4, 9, 10, 2, 7, 3])\n",
    " \n",
    "dd = np.diff(np.sign(np.diff(ser)))\n",
    "peak_locs = np.where(dd == -2)[0] + 1\n",
    "peak_locs"
   ]
  },
  {
   "cell_type": "code",
   "execution_count": null,
   "id": "06ebe8f1",
   "metadata": {},
   "outputs": [],
   "source": []
  }
 ],
 "metadata": {
  "kernelspec": {
   "display_name": "Python 3 (ipykernel)",
   "language": "python",
   "name": "python3"
  },
  "language_info": {
   "codemirror_mode": {
    "name": "ipython",
    "version": 3
   },
   "file_extension": ".py",
   "mimetype": "text/x-python",
   "name": "python",
   "nbconvert_exporter": "python",
   "pygments_lexer": "ipython3",
   "version": "3.9.6"
  }
 },
 "nbformat": 4,
 "nbformat_minor": 5
}
