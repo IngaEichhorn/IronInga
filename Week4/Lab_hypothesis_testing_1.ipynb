{
 "cells": [
  {
   "cell_type": "markdown",
   "id": "eb317d6c",
   "metadata": {},
   "source": [
    "### Lab | Hypothesis Testing"
   ]
  },
  {
   "cell_type": "markdown",
   "id": "35803ded",
   "metadata": {},
   "source": [
    "1. It is assumed that the mean systolic blood pressure is **μ = 120 mm Hg**.\n",
    "In the Honolulu Heart Study, a sample of **n = 100 people** had an average systolic blood pressure of **130.1 mm Hg** with a **standard deviation of 21.21 mm Hg**.\n",
    "Is the group significantly different (with respect to systolic blood pressure!) from the regular population?"
   ]
  },
  {
   "cell_type": "markdown",
   "id": "4e14206b",
   "metadata": {},
   "source": [
    "Set up the hypothesis test"
   ]
  },
  {
   "cell_type": "markdown",
   "id": "0589302d",
   "metadata": {},
   "source": [
    "H0(null): µ=120 \n",
    "Ha(alt):  µ != 120\n",
    "one-sided test: Ha:µ != 120, H0 = False\n",
    "data should be normally distributed, \n",
    "following a t-distribution with\n",
    "        n-1 degrees of freedom: DF = 100-1= 99\n",
    "        sample error: SE=130.1-120=10.1\n",
    "        confidence level: 95%, significance level: α=0.05"
   ]
  },
  {
   "cell_type": "markdown",
   "id": "b8a438a1",
   "metadata": {},
   "source": [
    "µsam=130.1, µ0=120, S(sigma)=21.21, "
   ]
  },
  {
   "cell_type": "code",
   "execution_count": 13,
   "id": "30885936",
   "metadata": {},
   "outputs": [],
   "source": [
    "from scipy.stats import ttest_1samp\n",
    "import scipy.stats as stats\n",
    "import math"
   ]
  },
  {
   "cell_type": "code",
   "execution_count": 22,
   "id": "5586634e",
   "metadata": {},
   "outputs": [
    {
     "name": "stdout",
     "output_type": "stream",
     "text": [
      "test statistics t is 4.761904761904759\n"
     ]
    }
   ],
   "source": [
    "t = (130.1-120)/(21.21/math.sqrt(100))\n",
    "print(\"test statistics t is\", t)"
   ]
  },
  {
   "cell_type": "code",
   "execution_count": 21,
   "id": "6d88edad",
   "metadata": {},
   "outputs": [
    {
     "name": "stdout",
     "output_type": "stream",
     "text": [
      "The critical value for df=99 and confidence lvl of 95% is -1.66\n"
     ]
    }
   ],
   "source": [
    "tc = +- stats.t.ppf(0.95, df=99)\n",
    "tc =round(tc, 3)\n",
    "print(\"The critical value for df=99 and confidence lvl of 95% is\", tc)\n"
   ]
  },
  {
   "cell_type": "code",
   "execution_count": null,
   "id": "18764abe",
   "metadata": {},
   "outputs": [],
   "source": [
    "Null Hypthesis rejected, because t>tc"
   ]
  },
  {
   "cell_type": "code",
   "execution_count": 3,
   "id": "e1b7090a",
   "metadata": {},
   "outputs": [],
   "source": [
    "x = np.random.normal(loc=130.1, scale=21.21, size=100)"
   ]
  },
  {
   "cell_type": "code",
   "execution_count": 5,
   "id": "a5101a76",
   "metadata": {},
   "outputs": [
    {
     "name": "stdout",
     "output_type": "stream",
     "text": [
      "t Statistic:  4.728471764410247\n",
      "P Value:  7.507323750734594e-06\n"
     ]
    }
   ],
   "source": [
    "tscore, pvalue = ttest_1samp(x, popmean=120)\n",
    "print(\"t Statistic: \", tscore)  \n",
    "print(\"P Value: \", pvalue)"
   ]
  }
 ],
 "metadata": {
  "kernelspec": {
   "display_name": "Python 3 (ipykernel)",
   "language": "python",
   "name": "python3"
  },
  "language_info": {
   "codemirror_mode": {
    "name": "ipython",
    "version": 3
   },
   "file_extension": ".py",
   "mimetype": "text/x-python",
   "name": "python",
   "nbconvert_exporter": "python",
   "pygments_lexer": "ipython3",
   "version": "3.8.12"
  }
 },
 "nbformat": 4,
 "nbformat_minor": 5
}
