{
 "cells": [
  {
   "cell_type": "markdown",
   "id": "eb317d6c",
   "metadata": {},
   "source": [
    "### Lab | Hypothesis Testing"
   ]
  },
  {
   "cell_type": "markdown",
   "id": "35803ded",
   "metadata": {},
   "source": [
    "1. It is assumed that the mean systolic blood pressure is **μ = 120 mm Hg**.\n",
    "In the Honolulu Heart Study, a sample of **n = 100 people** had an average systolic blood pressure of **130.1 mm Hg** with a **standard deviation of 21.21 mm Hg**.\n",
    "Is the group significantly different (with respect to systolic blood pressure!) from the regular population?"
   ]
  },
  {
   "cell_type": "markdown",
   "id": "4e14206b",
   "metadata": {},
   "source": [
    "Set up the hypothesis test"
   ]
  },
  {
   "cell_type": "markdown",
   "id": "0589302d",
   "metadata": {},
   "source": [
    "H0(null): µ=120 \n",
    "\n",
    "Ha(alt):  µ != 120\n",
    "\n",
    "one-sided test: Ha:µ ≠ 120, H0 = False\n",
    "\n",
    "data should be normally distributed, \n",
    "following a t-distribution with\n",
    "        n-1 degrees of freedom: DF = 100-1= 99\n",
    "        sample error: SE=130.1-120=10.1\n",
    "        confidence level: 95%, significance level: α=0.05"
   ]
  },
  {
   "cell_type": "markdown",
   "id": "b8a438a1",
   "metadata": {},
   "source": [
    "µsam=130.1, µ0=120, S(sigma)=21.21, "
   ]
  },
  {
   "cell_type": "code",
   "execution_count": 43,
   "id": "30885936",
   "metadata": {},
   "outputs": [],
   "source": [
    "from scipy.stats import ttest_1samp\n",
    "import scipy.stats as stats\n",
    "import math\n",
    "import numpy as np\n",
    "import pandas as pd\n",
    "import statistics as std\n"
   ]
  },
  {
   "cell_type": "code",
   "execution_count": 19,
   "id": "5586634e",
   "metadata": {},
   "outputs": [
    {
     "name": "stdout",
     "output_type": "stream",
     "text": [
      "test statistics t is 4.7619\n"
     ]
    }
   ],
   "source": [
    "t = (130.1-120)/(21.21/math.sqrt(100))\n",
    "t=round(t, 4)\n",
    "print(\"test statistics t is\", t)"
   ]
  },
  {
   "cell_type": "markdown",
   "id": "cbd98f86",
   "metadata": {},
   "source": [
    "critic value from the Student's t distribution table with alpha=0.05 and (n-1) dregrees of freedom:\n",
    "t(0.025,99)=1.9842"
   ]
  },
  {
   "cell_type": "code",
   "execution_count": 23,
   "id": "6d88edad",
   "metadata": {},
   "outputs": [
    {
     "name": "stdout",
     "output_type": "stream",
     "text": [
      "The critical value for df=99 and confidence lvl of 97.5% is 1.98422\n"
     ]
    }
   ],
   "source": [
    "tc = stats.t.ppf(.975, df=99)\n",
    "tc =round(tc, 5)\n",
    "print(\"The critical value for df=99 and confidence lvl of 97.5% is\", tc)\n"
   ]
  },
  {
   "cell_type": "markdown",
   "id": "d30987f6",
   "metadata": {},
   "source": [
    "Compare both values and make decision: 4.7619> 1.98422, Nullhypotheses **rejected**"
   ]
  },
  {
   "cell_type": "code",
   "execution_count": 27,
   "id": "e1b7090a",
   "metadata": {},
   "outputs": [],
   "source": [
    "x = np.random.normal(loc=130.1, scale=21.21, size=100)"
   ]
  },
  {
   "cell_type": "code",
   "execution_count": 25,
   "id": "a5101a76",
   "metadata": {},
   "outputs": [
    {
     "name": "stdout",
     "output_type": "stream",
     "text": [
      "t Statistic:  3.305712247282784\n",
      "P Value:  0.0013203428083353981\n"
     ]
    }
   ],
   "source": [
    "tscore, pvalue = ttest_1samp(x, popmean=120)\n",
    "print(\"t Statistic: \", tscore)  \n",
    "print(\"P Value: \", pvalue)"
   ]
  },
  {
   "cell_type": "markdown",
   "id": "e61a7643",
   "metadata": {},
   "source": [
    "2. In a packing plant, a machine packs cartons with jars. It is supposed that a new machine will pack faster on the average than the machine currently used. To test that hypothesis, the times it takes each machine to pack ten cartons are recorded. The results, in seconds, are shown in the tables in the file Data/machine.txt. Assume that there is sufficient evidence to conduct the t test, does the data provide sufficient evidence to show if one machine is better than the other"
   ]
  },
  {
   "cell_type": "code",
   "execution_count": 28,
   "id": "2c37010d",
   "metadata": {},
   "outputs": [],
   "source": [
    "#dataframe for the time (in sec) each machine needs to pack a carton of 10 jars\n",
    "d = {'new_machine': [42.1, 41, 41.3, 41.8, 42.4, 42.8, 43.2, 42.3, 41.8, 42.7], 'old_machine': [42.7, 43.6, 43.8, 43.3, 42.5, 43.5, 43.1, 41.7, 44, 44.1]}\n",
    "df = pd.DataFrame(data=d)"
   ]
  },
  {
   "cell_type": "markdown",
   "id": "6812777f",
   "metadata": {},
   "source": [
    "H0: μ1 ≠ μ2\n",
    "\n",
    "Ha: μ1 = μ2\n",
    "\n",
    "Note: The null hypothesis says that the new machine is better. If this is the case, then the mean of the two samples would not be equal. That is the null hypothesis"
   ]
  },
  {
   "cell_type": "code",
   "execution_count": 58,
   "id": "9476851e",
   "metadata": {},
   "outputs": [
    {
     "name": "stdout",
     "output_type": "stream",
     "text": [
      "mean of the old machine  42.14\n",
      "mean of the new machine  43.23\n"
     ]
    }
   ],
   "source": [
    "#calculate mean of the two groups\n",
    "m1=np.mean(df.new_machine)\n",
    "m2=np.mean(df.old_machine)\n",
    "print('mean of the old machine ', m1)\n",
    "print('mean of the new machine ', round(m2,2))"
   ]
  },
  {
   "cell_type": "code",
   "execution_count": 70,
   "id": "bb9074f9",
   "metadata": {
    "scrolled": true
   },
   "outputs": [
    {
     "name": "stdout",
     "output_type": "stream",
     "text": [
      "s1 of the old machine  0.46711\n",
      "s2 of the new machine  0.56233\n"
     ]
    }
   ],
   "source": [
    "#Calculate the variance for each group\n",
    "s1=np.var(df.new_machine, ddof=1)\n",
    "s2=np.var(df.old_machine, ddof=1)\n",
    "print('s1 of the old machine ', round(s1,5))\n",
    "print('s2 of the new machine ', round(s2,5))"
   ]
  },
  {
   "cell_type": "code",
   "execution_count": 71,
   "id": "18324da2",
   "metadata": {},
   "outputs": [
    {
     "data": {
      "text/plain": [
       "-3.397230706117603"
      ]
     },
     "execution_count": 71,
     "metadata": {},
     "output_type": "execute_result"
    }
   ],
   "source": [
    "t=(m1-m2)/(math.sqrt(((s1)/10)+((s2)/10)))\n",
    "t"
   ]
  },
  {
   "cell_type": "code",
   "execution_count": 72,
   "id": "5556c42a",
   "metadata": {},
   "outputs": [
    {
     "data": {
      "text/plain": [
       "Ttest_indResult(statistic=-3.3972307061176026, pvalue=0.0032111425007745158)"
      ]
     },
     "execution_count": 72,
     "metadata": {},
     "output_type": "execute_result"
    }
   ],
   "source": [
    "stats.ttest_ind(df.new_machine, df.old_machine)"
   ]
  },
  {
   "cell_type": "markdown",
   "id": "1efcc234",
   "metadata": {},
   "source": [
    "Conclusion: Significant difference in the two means, the new machine is signicantly faster than the old one."
   ]
  }
 ],
 "metadata": {
  "kernelspec": {
   "display_name": "Python 3 (ipykernel)",
   "language": "python",
   "name": "python3"
  },
  "language_info": {
   "codemirror_mode": {
    "name": "ipython",
    "version": 3
   },
   "file_extension": ".py",
   "mimetype": "text/x-python",
   "name": "python",
   "nbconvert_exporter": "python",
   "pygments_lexer": "ipython3",
   "version": "3.8.12"
  }
 },
 "nbformat": 4,
 "nbformat_minor": 5
}
